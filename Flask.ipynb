{
 "cells": [
  {
   "cell_type": "code",
   "execution_count": null,
   "id": "77d91d5f",
   "metadata": {
    "scrolled": false
   },
   "outputs": [
    {
     "name": "stdout",
     "output_type": "stream",
     "text": [
      " * Serving Flask app '__main__'\n",
      " * Debug mode: off\n"
     ]
    },
    {
     "name": "stderr",
     "output_type": "stream",
     "text": [
      "WARNING: This is a development server. Do not use it in a production deployment. Use a production WSGI server instead.\n",
      " * Running on http://127.0.0.1:4000\n",
      "Press CTRL+C to quit\n",
      "127.0.0.1 - - [28/Apr/2024 00:05:33] \"GET / HTTP/1.1\" 200 -\n",
      "127.0.0.1 - - [28/Apr/2024 00:05:33] \"GET /favicon.ico HTTP/1.1\" 404 -\n",
      "Extracting frames: 100%|███████████████████████████████████████████████████████████████| 16/16 [00:04<00:00,  4.79it/s]\n"
     ]
    },
    {
     "name": "stdout",
     "output_type": "stream",
     "text": [
      "1/1 [==============================] - 2s 2s/step\n"
     ]
    },
    {
     "name": "stderr",
     "output_type": "stream",
     "text": [
      "127.0.0.1 - - [28/Apr/2024 00:07:28] \"POST /upload HTTP/1.1\" 200 -\n",
      "Extracting frames: 100%|███████████████████████████████████████████████████████████████| 16/16 [00:08<00:00,  1.76it/s]\n"
     ]
    },
    {
     "name": "stdout",
     "output_type": "stream",
     "text": [
      "1/1 [==============================] - 0s 36ms/step\n"
     ]
    },
    {
     "name": "stderr",
     "output_type": "stream",
     "text": [
      "127.0.0.1 - - [28/Apr/2024 00:08:07] \"POST /upload HTTP/1.1\" 200 -\n",
      "Extracting frames: 100%|███████████████████████████████████████████████████████████████| 16/16 [00:04<00:00,  4.91it/s]\n"
     ]
    },
    {
     "name": "stdout",
     "output_type": "stream",
     "text": [
      "1/1 [==============================] - 0s 36ms/step\n"
     ]
    },
    {
     "name": "stderr",
     "output_type": "stream",
     "text": [
      "127.0.0.1 - - [28/Apr/2024 00:08:22] \"POST /upload HTTP/1.1\" 200 -\n"
     ]
    }
   ],
   "source": [
    "# Save this as app.py\n",
    "from flask import Flask, render_template, request, redirect, url_for, flash\n",
    "import os\n",
    "import tensorflow as tf\n",
    "import cv2\n",
    "import numpy as np\n",
    "from tqdm import tqdm\n",
    "from keras.applications.inception_v3 import InceptionV3\n",
    "from keras.models import Model\n",
    "import joblib\n",
    "\n",
    "# Create a new model for feature extraction (use the second-to-last layer of InceptionV3)\n",
    "def create_feature_extraction_model():\n",
    "    base_model = InceptionV3(include_top=False, pooling='avg')\n",
    "    feature_model = Model(inputs=base_model.input, outputs=base_model.output)\n",
    "    return feature_model\n",
    "\n",
    "# Function to extract frames and obtain their features\n",
    "def extract_features_from_video(video_path, model, sequence_length=16, img_size=(299, 299)):\n",
    "    # Initialize the list for storing features\n",
    "    video_features = []\n",
    "    \n",
    "    # Open the video file\n",
    "    video_reader = cv2.VideoCapture(video_path)\n",
    "    frame_count = int(video_reader.get(cv2.CAP_PROP_FRAME_COUNT))\n",
    "    frame_interval = max(int(frame_count / sequence_length), 1)\n",
    "\n",
    "    for frame_counter in tqdm(range(sequence_length), desc=\"Extracting frames\"):\n",
    "        # Set the frame position and read it\n",
    "        video_reader.set(cv2.CAP_PROP_POS_FRAMES, frame_counter * frame_interval)\n",
    "        success, frame = video_reader.read()\n",
    "        if not success:\n",
    "            break\n",
    "        \n",
    "        # Pre-process the frame\n",
    "        frame_rgb = cv2.cvtColor(frame, cv2.COLOR_BGR2RGB)\n",
    "        resized_frame = cv2.resize(frame_rgb, img_size)\n",
    "        normalized_frame = resized_frame / 255.0\n",
    "        \n",
    "        # Extract features using the model\n",
    "        features = extract_frame_features(normalized_frame, model)\n",
    "        \n",
    "        # Append the features to the list\n",
    "        video_features.append(features)\n",
    "    \n",
    "    # Release the video reader\n",
    "    video_reader.release()\n",
    "    \n",
    "    return np.array(video_features)\n",
    "\n",
    "# Feature extraction function\n",
    "def extract_frame_features(frame, model):\n",
    "    img_expanded = np.expand_dims(frame, axis=0)\n",
    "    feature_vector = model.predict(img_expanded, verbose=0)\n",
    "    return feature_vector\n",
    "\n",
    "loaded_model = tf.keras.models.load_model(\"violence.h5\")\n",
    "app = Flask(__name__)\n",
    "app.secret_key = 'your_secret_key'  # For session and flash messages\n",
    "\n",
    "# Directory to save uploaded videos\n",
    "UPLOAD_FOLDER = 'uploads'\n",
    "os.makedirs(UPLOAD_FOLDER, exist_ok=True)\n",
    "\n",
    "@app.route('/')\n",
    "def index():\n",
    "    return render_template('index.html')\n",
    "\n",
    "@app.route('/upload', methods=['POST'])\n",
    "def upload():\n",
    "      if request.method == 'POST':\n",
    "        # Check if the 'xrayImage' file is in the request\n",
    "        if 'video' in request.files:\n",
    "            # Get the uploaded file\n",
    "            uploaded_file = request.files['video']\n",
    "\n",
    "            # Check if the file has a valid filename\n",
    "            if uploaded_file.filename:\n",
    "                # Save the uploaded file to a specific directory\n",
    "                uploaded_file.save(r'C:\\Users\\shiva\\major\\uploads\\ ' + uploaded_file.filename)\n",
    "                # Generate the URL for the uploaded image\n",
    "                video_path = r\"C:\\Users\\shiva\\major\\uploads\\ \" + uploaded_file.filename  # Replace with the path to your image\n",
    "                feature_model = create_feature_extraction_model()\n",
    "                \n",
    "                # Extract features from the video\n",
    "                features = extract_features_from_video(video_path, feature_model, sequence_length=16)\n",
    "                feat=features.reshape(1,16,2048)\n",
    "                prediction = loaded_model.predict(feat)\n",
    "                if prediction>0.25:\n",
    "                    prediction=\"Non Violence\"\n",
    "                else:\n",
    "                    prediction=\"Violence\"\n",
    "              \n",
    "        return render_template(\"index.html\",prediction=prediction)\n",
    "    \n",
    "if __name__ == '__main__':\n",
    "    app.run(port=4000)\n"
   ]
  },
  {
   "cell_type": "code",
   "execution_count": null,
   "id": "25011415",
   "metadata": {},
   "outputs": [],
   "source": []
  }
 ],
 "metadata": {
  "kernelspec": {
   "display_name": "Python 3",
   "language": "python",
   "name": "python3"
  },
  "language_info": {
   "codemirror_mode": {
    "name": "ipython",
    "version": 3
   },
   "file_extension": ".py",
   "mimetype": "text/x-python",
   "name": "python",
   "nbconvert_exporter": "python",
   "pygments_lexer": "ipython3",
   "version": "3.7.3"
  }
 },
 "nbformat": 4,
 "nbformat_minor": 5
}
